{
 "cells": [
  {
   "cell_type": "markdown",
   "id": "0937261b-ca64-4ee1-9964-19573264cf4f",
   "metadata": {},
   "source": [
    "# Análisis exploratorio de datos\n",
    "\n",
    "Contentesta las siguientes preguntas escribiendo el código de Python necesario para encontrar las respuestas o producir las gráficas necesarias\n",
    "\n",
    "---\n"
   ]
  },
  {
   "cell_type": "code",
   "execution_count": null,
   "id": "4818aad0-147f-48ac-98ad-81c79161ae68",
   "metadata": {},
   "outputs": [],
   "source": [
    "# No mostrar advertencias\n",
    "import warnings\n",
    "warnings.filterwarnings('ignore')\n",
    "\n",
    "import numpy as np\n",
    "import pandas as pd\n",
    "\n",
    "import matplotlib.pyplot as plt\n",
    "import seaborn as sns"
   ]
  },
  {
   "cell_type": "code",
   "execution_count": null,
   "id": "1ee5b11e",
   "metadata": {},
   "outputs": [],
   "source": [
    "# cargar datos\n",
    "df = pd.read_csv('.data/retailmax.csv')\n",
    "\n",
    "# dimensiones del conjunto de datos, conjunto de entrenamiento\n",
    "print(f\"El shape del conjunto de entrenamiento es {df.shape}. {df.shape[0]} filas y {df.shape[1]} columnas.\") \n",
    "df.info()"
   ]
  },
  {
   "cell_type": "code",
   "execution_count": null,
   "id": "23fd1605",
   "metadata": {},
   "outputs": [],
   "source": [
    "# verificar si faltan datos\n",
    "# Crear mapa de calor de valores nulos\n",
    "plt.figure(figsize=(10, 8))\n",
    "sns.heatmap(df.isnull(), cbar=True, cmap='viridis')\n",
    "plt.title('Mapa de calor de valores nulos')\n",
    "plt.show()"
   ]
  },
  {
   "cell_type": "markdown",
   "id": "5489f24b-69ab-4922-948d-f199bced2121",
   "metadata": {},
   "source": [
    "### 1. ¿Cuál es la distribución de edades de los clientes?\n",
    "- **Objetivo**: Comprender la distribución de las edades en el conjunto de datos.\n",
    "- **Respuesta esperada**: Un histograma de la columna Age."
   ]
  },
  {
   "cell_type": "code",
   "execution_count": null,
   "id": "d654aafe-88b7-4d06-8f56-3be46367c85c",
   "metadata": {},
   "outputs": [],
   "source": [
    "# tu código aquí"
   ]
  },
  {
   "cell_type": "markdown",
   "id": "1e069ccd-8b30-493d-9e12-351bf773d02d",
   "metadata": {},
   "source": [
    "### 2. ¿Existen diferencias significativas en los ingresos anuales entre hombres y mujeres?\n",
    "- **Objetivo**: Comparar la distribución de ingresos anuales entre géneros.\n",
    "- **Respuesta esperada**: Una gráfica de cajas (boxplot) que muestre la distribución de Annual Income (k$) por género."
   ]
  },
  {
   "cell_type": "code",
   "execution_count": null,
   "id": "01b11a16-9244-4dac-9a96-0f01f925a749",
   "metadata": {},
   "outputs": [],
   "source": [
    "# tu código aquí"
   ]
  },
  {
   "cell_type": "markdown",
   "id": "8c48de40-6dce-4b56-ab0a-b15fad92bdc7",
   "metadata": {},
   "source": [
    "### 3. ¿Cómo se distribuye la puntuación de gasto (Spending Score) entre los diferentes rangos de edad?\n",
    "- **Objetivo**: Analizar la relación entre la edad y la puntuación de gasto.\n",
    "- **Respuesta esperada**: Una gráfica de dispersión (scatter plot) o un gráfico de cajas que compare la Spending Score (1-100) con diferentes grupos de edad."
   ]
  },
  {
   "cell_type": "code",
   "execution_count": null,
   "id": "5e97464b-842a-44f4-9d66-1ca1e82b4fa4",
   "metadata": {},
   "outputs": [],
   "source": [
    "# tu código aquí"
   ]
  },
  {
   "cell_type": "markdown",
   "id": "018af266-fb20-4112-b98b-c45a15ea91aa",
   "metadata": {},
   "source": [
    "### 4. ¿Cuál es la correlación entre el ingreso anual y la puntuación de gasto?\n",
    "- **Objetivo**: Identificar si existe una relación lineal entre el ingreso y el gasto.\n",
    "- **Respuesta esperada**: Una gráfica de dispersión y el cálculo del coeficiente de correlación entre Annual Income (k$) y Spending Score (1-100)."
   ]
  },
  {
   "cell_type": "code",
   "execution_count": null,
   "id": "cc67d470-9e13-47d4-bb7f-6023bde9916f",
   "metadata": {},
   "outputs": [],
   "source": [
    "# tu código aquí"
   ]
  },
  {
   "cell_type": "markdown",
   "id": "e91f3382-e46c-469a-a78a-5bd96cd94ae3",
   "metadata": {},
   "source": [
    "### 5. ¿Cómo varía la puntuación de gasto en diferentes grupos de ingresos anuales?\n",
    "- **Objetivo**: Examinar cómo los clientes en diferentes rangos de ingresos se comportan en términos de gasto.\n",
    "- **Respuesta esperada**: Una gráfica de cajas o de violín que muestre la Spending Score (1-100) para diferentes rangos de Annual Income (k$)."
   ]
  },
  {
   "cell_type": "code",
   "execution_count": null,
   "id": "b41373d2-a3f4-43f6-b2a3-06bfed88093d",
   "metadata": {},
   "outputs": [],
   "source": [
    "# tu código aquí"
   ]
  },
  {
   "cell_type": "markdown",
   "id": "c2615742-e00f-4474-b023-df28f2edff44",
   "metadata": {},
   "source": [
    "### 6. ¿Cuál es la proporción de clientes por género?\n",
    "- **Objetivo**: Determinar el balance de género en el conjunto de datos.\n",
    "- **Respuesta esperada**: Una gráfica de barras o un gráfico de pastel que muestre la proporción de hombres y mujeres."
   ]
  },
  {
   "cell_type": "code",
   "execution_count": null,
   "id": "4b55ba3c-c9f6-4f0b-9376-268af6722b05",
   "metadata": {},
   "outputs": [],
   "source": [
    "# tu código aquí"
   ]
  },
  {
   "cell_type": "markdown",
   "id": "bf1b3b47-abca-4790-aaf4-ffdf4e5217bd",
   "metadata": {},
   "source": [
    "### 7. ¿Qué grupos de edad gastan más en promedio?\n",
    "- **Objetivo**: Identificar los grupos de edad que tienen una mayor puntuación de gasto en promedio.\n",
    "- **Respuesta esperada**: Una gráfica de barras que compare la puntuación de gasto promedio entre diferentes grupos de edad."
   ]
  },
  {
   "cell_type": "code",
   "execution_count": null,
   "id": "be55a7c9-07a2-4fe3-87e6-5af84a211204",
   "metadata": {},
   "outputs": [],
   "source": [
    "# tu código aquí"
   ]
  },
  {
   "cell_type": "markdown",
   "id": "35451125-e265-445e-ae38-772960a76a1f",
   "metadata": {},
   "source": [
    "### 8. ¿Hay alguna relación entre la edad y el ingreso anual de los clientes?\n",
    "- **Objetivo**: Explorar si hay una tendencia entre la edad de los clientes y sus ingresos.\n",
    "- **Respuesta esperada**: Una gráfica de dispersión que muestre la relación entre Age y Annual Income (k$)."
   ]
  },
  {
   "cell_type": "code",
   "execution_count": null,
   "id": "613ebe67-0e05-4f12-b1ef-d533e9842d74",
   "metadata": {},
   "outputs": [],
   "source": [
    "# tu código aquí"
   ]
  },
  {
   "cell_type": "markdown",
   "id": "8ec4fe97-a92d-4966-b6e3-fd456b0784e1",
   "metadata": {},
   "source": [
    "### 9. ¿Cuál es la distribución conjunta de la edad y el ingreso anual?\n",
    "- **Objetivo**: Entender cómo se distribuyen estas dos variables en conjunto.\n",
    "- **Respuesta esperada**: Una gráfica de dispersión con una densidad de puntos o un gráfico de hexágonos que muestre la distribución conjunta de Age y Annual Income (k$)."
   ]
  },
  {
   "cell_type": "code",
   "execution_count": null,
   "id": "55f1c8cb-e071-4e56-8b83-3d0fbddfa6e1",
   "metadata": {},
   "outputs": [],
   "source": [
    "# tu código aquí"
   ]
  },
  {
   "cell_type": "markdown",
   "id": "332d7240-2a01-4ff9-aaa6-b564f06f5eb2",
   "metadata": {},
   "source": [
    "### 10. ¿Cómo se distribuyen los clientes en función de la puntuación de gasto y el género?\n",
    "- **Objetivo**: Analizar la relación entre la puntuación de gasto y el género.\n",
    "- **Respuesta esperada**: Una gráfica de dispersión o un gráfico de violín que muestre la Spending Score (1-100) separada por género."
   ]
  },
  {
   "cell_type": "code",
   "execution_count": null,
   "id": "767c2a48-d08c-4828-a0a2-3827a2592a5b",
   "metadata": {},
   "outputs": [],
   "source": [
    "# tu código aquí"
   ]
  }
 ],
 "metadata": {
  "kernelspec": {
   "display_name": "Python 3 (ipykernel)",
   "language": "python",
   "name": "python3"
  },
  "language_info": {
   "codemirror_mode": {
    "name": "ipython",
    "version": 3
   },
   "file_extension": ".py",
   "mimetype": "text/x-python",
   "name": "python",
   "nbconvert_exporter": "python",
   "pygments_lexer": "ipython3",
   "version": "3.12.3"
  }
 },
 "nbformat": 4,
 "nbformat_minor": 5
}
