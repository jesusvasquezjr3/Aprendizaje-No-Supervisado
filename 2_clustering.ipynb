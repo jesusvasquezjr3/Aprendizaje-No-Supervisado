{
 "cells": [
  {
   "cell_type": "markdown",
   "id": "6ffd8fd5",
   "metadata": {},
   "source": [
    "## ¿Qué es un Cluster?\n",
    "\n",
    "> ***Un cluster es un grupo de datos que comparten características similares entre sí y que se encuentran más cercanos entre ellos en un espacio de características en comparación con otros grupos.***\n",
    "\n",
    "En el contexto del análisis de datos, los clusters permiten identificar patrones o segmentos naturales dentro de un conjunto de datos sin la necesidad de etiquetas o clases predeterminadas.\n",
    "\n",
    "### Importar paquetes"
   ]
  },
  {
   "cell_type": "code",
   "execution_count": null,
   "id": "cc3bc707-e6ca-43ad-8467-4169e8cc26ed",
   "metadata": {},
   "outputs": [],
   "source": [
    "import pandas as pd\n",
    "\n",
    "import seaborn as sns\n",
    "import matplotlib.pyplot as plt\n",
    "from mpl_toolkits.mplot3d import Axes3D\n",
    "\n",
    "from sklearn.preprocessing import StandardScaler\n",
    "from sklearn.cluster import KMeans"
   ]
  },
  {
   "cell_type": "markdown",
   "id": "0922f0be",
   "metadata": {},
   "source": [
    "### Carga de Datos"
   ]
  },
  {
   "cell_type": "code",
   "execution_count": null,
   "id": "e4d6919c-4f5b-469f-8e4e-536f50e56b20",
   "metadata": {},
   "outputs": [],
   "source": [
    "df = pd.read_csv('./data/retailmax.csv')"
   ]
  },
  {
   "cell_type": "code",
   "execution_count": null,
   "id": "b10a39d7",
   "metadata": {},
   "outputs": [],
   "source": [
    "features = df[['Age', 'Annual Income (k$)', 'Spending Score (1-100)']]"
   ]
  },
  {
   "cell_type": "code",
   "execution_count": null,
   "id": "7d28ec61",
   "metadata": {},
   "outputs": [],
   "source": [
    "scaler = StandardScaler()\n",
    "scaled_features = scaler.fit_transform(features)"
   ]
  },
  {
   "cell_type": "code",
   "execution_count": null,
   "id": "af7222fb",
   "metadata": {},
   "outputs": [],
   "source": [
    "type(scaled_features)"
   ]
  },
  {
   "cell_type": "code",
   "execution_count": null,
   "id": "bf8a0cb4",
   "metadata": {},
   "outputs": [],
   "source": [
    "kmeans = KMeans(n_clusters=3, init='k-means++', max_iter=300, n_init=10, random_state=42)\n",
    "clusters = kmeans.fit_predict(scaled_features)"
   ]
  },
  {
   "cell_type": "code",
   "execution_count": null,
   "id": "9f0d9d8e",
   "metadata": {},
   "outputs": [],
   "source": [
    "clusters"
   ]
  },
  {
   "cell_type": "code",
   "execution_count": null,
   "id": "81e2597e",
   "metadata": {},
   "outputs": [],
   "source": [
    "len(clusters)"
   ]
  },
  {
   "cell_type": "code",
   "execution_count": null,
   "id": "d00df8dd",
   "metadata": {},
   "outputs": [],
   "source": [
    "kmeans = KMeans(n_clusters=5, init='k-means++', max_iter=300, n_init=10, random_state=42)\n",
    "clusters = kmeans.fit_predict(scaled_features)"
   ]
  },
  {
   "cell_type": "code",
   "execution_count": null,
   "id": "d34310b1",
   "metadata": {},
   "outputs": [],
   "source": [
    "clusters"
   ]
  },
  {
   "cell_type": "code",
   "execution_count": null,
   "id": "d9debe40",
   "metadata": {},
   "outputs": [],
   "source": [
    "kmeans = KMeans(n_clusters=4, init='k-means++', max_iter=300, n_init=10, random_state=42)\n",
    "clusters = kmeans.fit_predict(scaled_features)"
   ]
  },
  {
   "cell_type": "code",
   "execution_count": null,
   "id": "bc9eee94",
   "metadata": {},
   "outputs": [],
   "source": [
    "clusters"
   ]
  },
  {
   "cell_type": "code",
   "execution_count": null,
   "id": "85ba6950",
   "metadata": {},
   "outputs": [],
   "source": [
    "df"
   ]
  },
  {
   "cell_type": "code",
   "execution_count": null,
   "id": "8a12284f",
   "metadata": {},
   "outputs": [],
   "source": [
    "df['clasificación'] = clusters\n",
    "df"
   ]
  },
  {
   "cell_type": "code",
   "execution_count": null,
   "id": "5f30745c",
   "metadata": {},
   "outputs": [],
   "source": [
    "df['clasificación'].value_counts()"
   ]
  },
  {
   "cell_type": "code",
   "execution_count": null,
   "id": "3156e4fd",
   "metadata": {},
   "outputs": [],
   "source": [
    "plt.figure(figsize=(10, 6))\n",
    "sns.scatterplot(data=df, x='Annual Income (k$)', y='Spending Score (1-100)', hue='clasificación', palette='Set1')\n",
    "plt.title('Clusters de clientes')\n",
    "plt.show()"
   ]
  },
  {
   "cell_type": "code",
   "execution_count": null,
   "id": "e26c026f",
   "metadata": {},
   "outputs": [],
   "source": [
    "    # Función para calcular la Suma de Cuadrados Dentro del Cluster (WCSS)\n",
    "def calcular_wcss(datos):\n",
    "    wcss = []\n",
    "    for n in range(1, 11):\n",
    "        kmeans = KMeans(n_clusters=n, init='k-means++', max_iter=300, n_init=10, random_state=42)\n",
    "        kmeans.fit(datos)\n",
    "        wcss.append(kmeans.inertia_)\n",
    "    return wcss\n",
    "\n",
    "# Calcular el WCSS para diferentes números de clusters\n",
    "wcss = calcular_wcss(scaled_features)\n",
    "\n",
    "# Graficar el método del codo\n",
    "plt.plot(range(1, 11), wcss)\n",
    "plt.title('Método del codo')\n",
    "plt.xlabel('Número de clusters')\n",
    "plt.ylabel('WCSS')\n",
    "plt.show()"
   ]
  },
  {
   "cell_type": "code",
   "execution_count": null,
   "id": "d2cb4db7",
   "metadata": {},
   "outputs": [],
   "source": []
  }
 ],
 "metadata": {
  "kernelspec": {
   "display_name": "entorno",
   "language": "python",
   "name": "python3"
  },
  "language_info": {
   "codemirror_mode": {
    "name": "ipython",
    "version": 3
   },
   "file_extension": ".py",
   "mimetype": "text/x-python",
   "name": "python",
   "nbconvert_exporter": "python",
   "pygments_lexer": "ipython3",
   "version": "3.12.6"
  }
 },
 "nbformat": 4,
 "nbformat_minor": 5
}
